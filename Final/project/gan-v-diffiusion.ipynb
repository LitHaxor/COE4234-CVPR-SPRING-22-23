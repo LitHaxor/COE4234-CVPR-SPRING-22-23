{
 "cells": [
  {
   "cell_type": "code",
   "execution_count": null,
   "metadata": {},
   "outputs": [],
   "source": [
    "import tensorflow as tf\n",
    "import matplotlib.pyplot as plt\n",
    "\n",
    "generator = tf.keras.Sequential([\n",
    "  tf.keras.layers.Dense(128, activation='relu'),\n",
    "  tf.keras.layers.Dense(784, activation='sigmoid')\n",
    "])\n",
    "\n",
    "discriminator = tf.keras.Sequential([\n",
    "  tf.keras.layers.Flatten(input_shape=(32, 32, 3)),\n",
    "  tf.keras.layers.Dense(128, activation='relu'),\n",
    "  tf.keras.layers.Dense(1, activation='sigmoid')\n",
    "])\n",
    "\n",
    "(x_train, y_train), (x_test, y_test) = tf.keras.datasets.cifar100.load_data()\n",
    "\n",
    "fake_images = generator.predict(tf.random.normal([1000, 128]))\n",
    "\n",
    "discriminator.compile(loss='binary_crossentropy', optimizer='adam', metrics=['accuracy'])\n",
    "discriminator.fit(x_train, y_train, epochs=10)\n",
    "\n",
    "generator.compile(loss='binary_crossentropy', optimizer='adam')\n",
    "generator.fit(fake_images, y_train, epochs=10)\n",
    "\n",
    "image = generator.predict(tf.random.normal([1, 128]))\n",
    "\n",
    "plt.imshow(image)\n",
    "plt.show()\n"
   ]
  }
 ],
 "metadata": {
  "kernelspec": {
   "display_name": "base",
   "language": "python",
   "name": "python3"
  },
  "language_info": {
   "name": "python",
   "version": "3.10.10"
  },
  "orig_nbformat": 4
 },
 "nbformat": 4,
 "nbformat_minor": 2
}

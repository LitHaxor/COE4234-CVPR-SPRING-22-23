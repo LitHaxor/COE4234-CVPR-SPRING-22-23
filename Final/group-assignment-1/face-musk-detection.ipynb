{
 "cells": [
  {
   "cell_type": "code",
   "execution_count": 2,
   "metadata": {},
   "outputs": [
    {
     "name": "stdout",
     "output_type": "stream",
     "text": [
      "1/1 [==============================] - 0s 122ms/step\n"
     ]
    },
    {
     "name": "stderr",
     "output_type": "stream",
     "text": [
      "2023-05-02 11:22:55.707774: I tensorflow/core/grappler/optimizers/custom_graph_optimizer_registry.cc:113] Plugin optimizer for device_type GPU is enabled.\n"
     ]
    },
    {
     "ename": "IndexError",
     "evalue": "index 1 is out of bounds for axis 0 with size 1",
     "output_type": "error",
     "traceback": [
      "\u001b[0;31m---------------------------------------------------------------------------\u001b[0m",
      "\u001b[0;31mIndexError\u001b[0m                                Traceback (most recent call last)",
      "Cell \u001b[0;32mIn[2], line 23\u001b[0m\n\u001b[1;32m     21\u001b[0m prediction \u001b[39m=\u001b[39m model\u001b[39m.\u001b[39mpredict(frame)\n\u001b[1;32m     22\u001b[0m hasMusk \u001b[39m=\u001b[39m prediction[\u001b[39m0\u001b[39m][\u001b[39m0\u001b[39m]\n\u001b[0;32m---> 23\u001b[0m noMusk \u001b[39m=\u001b[39m prediction[\u001b[39m0\u001b[39;49m][\u001b[39m1\u001b[39;49m]\n\u001b[1;32m     25\u001b[0m \u001b[39mprint\u001b[39m({\n\u001b[1;32m     26\u001b[0m     \u001b[39m'\u001b[39m\u001b[39mhasMusk\u001b[39m\u001b[39m'\u001b[39m: hasMusk,\n\u001b[1;32m     27\u001b[0m     \u001b[39m'\u001b[39m\u001b[39mnoMusk\u001b[39m\u001b[39m'\u001b[39m: noMusk,\n\u001b[1;32m     28\u001b[0m     \u001b[39m'\u001b[39m\u001b[39mprediction\u001b[39m\u001b[39m'\u001b[39m: prediction   \n\u001b[1;32m     29\u001b[0m })\n\u001b[1;32m     31\u001b[0m \u001b[39mif\u001b[39;00m hasMusk \u001b[39m>\u001b[39m noMusk:\n\u001b[1;32m     32\u001b[0m     \u001b[39m# draw a box around the face\u001b[39;00m\n",
      "\u001b[0;31mIndexError\u001b[0m: index 1 is out of bounds for axis 0 with size 1"
     ]
    }
   ],
   "source": [
    "from tensorflow import keras\n",
    "import numpy as np\n",
    "import matplotlib.pyplot as plt\n",
    "model = keras.models.load_model('face-musk-model.h5')\n",
    "import cv2\n",
    "\n",
    "cap = cv2.VideoCapture(0)\n",
    "\n",
    "#Check if camera was opened correctly\n",
    "if not (cap.isOpened()):\n",
    "    print(\"Could not open video device\")\n",
    "\n",
    "while(True):\n",
    "    \n",
    "    ret, frame = cap.read()\n",
    "\n",
    "    frame = cv2.resize(frame, (227, 227))\n",
    "    frame = frame.reshape(-1, 227, 227, 3)\n",
    "\n",
    "\n",
    "    prediction = model.predict(frame)\n",
    "    hasMusk = prediction[0][0]\n",
    "    noMusk = prediction[0][1]\n",
    "\n",
    "    print({\n",
    "        'hasMusk': hasMusk,\n",
    "        'noMusk': noMusk,\n",
    "        'prediction': prediction   \n",
    "    })\n",
    "\n",
    "    if hasMusk > noMusk:\n",
    "        # draw a box around the face\n",
    "        cv2.rectangle(frame, (0, 0), (227, 227), (0, 255, 0), 2)\n",
    "        # draw the predicted class and associated probability\n",
    "        text = \"{}: {:.2f}%\".format(\"Has Mask\", hasMusk * 100)\n",
    "        cv2.putText(frame, text, (5, 25), cv2.FONT_HERSHEY_SIMPLEX, 0.7, (0, 255, 0), 2)\n",
    "    else:\n",
    "        # draw a box around the face\n",
    "        cv2.rectangle(frame, (0, 0), (227, 227), (0, 0, 255), 2)\n",
    "        # draw the predicted class and associated probability\n",
    "        text = \"{}: {:.2f}%\".format(\"No Mask\", noMusk * 100)\n",
    "        cv2.putText(frame, text, (5, 25), cv2.FONT_HERSHEY_SIMPLEX, 0.7, (0, 0, 255), 2)\n",
    "\n",
    "\n",
    "    cv2.imshow(\"preview\",np.squeeze(frame))\n",
    "   \n",
    "    if cv2.waitKey(1) & 0xFF == ord('q'):\n",
    "        break\n",
    "\n",
    "cap.release()\n",
    "cv2.destroyAllWindows()"
   ]
  },
  {
   "cell_type": "markdown",
   "metadata": {},
   "source": []
  }
 ],
 "metadata": {
  "kernelspec": {
   "display_name": "base",
   "language": "python",
   "name": "python3"
  },
  "language_info": {
   "codemirror_mode": {
    "name": "ipython",
    "version": 3
   },
   "file_extension": ".py",
   "mimetype": "text/x-python",
   "name": "python",
   "nbconvert_exporter": "python",
   "pygments_lexer": "ipython3",
   "version": "3.10.10"
  },
  "orig_nbformat": 4,
  "vscode": {
   "interpreter": {
    "hash": "ff46d6c01e8dda212779b92f0f6e3d12c99741871a66cd8bc4d855b2a9e43ac0"
   }
  }
 },
 "nbformat": 4,
 "nbformat_minor": 2
}
